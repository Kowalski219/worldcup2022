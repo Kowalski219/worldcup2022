{
 "cells": [
  {
   "attachments": {},
   "cell_type": "markdown",
   "metadata": {},
   "source": [
    "                    \n",
    "            How does Argentina's path to glory compare to previous winners?"
   ]
  },
  {
   "attachments": {},
   "cell_type": "markdown",
   "metadata": {},
   "source": [
    "In the 2022 World Cup, Argentina clinched the championship with an impressive performance. They achieved a total of six wins, but it's important to note that out of these six wins, only four were secured in regular 90-minute play. Argentina faced two draws during the tournament—one in the quarter-final and another in the final, both of which were eventually decided in Argentina's favor through penalty shootouts after extra time.\n",
    "\n",
    "Now, when we compare Argentina's performance to previous World Cup winners, we find that their four wins in regular 90-minute play align closely with the performances of past champions. Several previous winners, including France in 2018, Germany in 2014, Brazil in 2002, and Italy in 2006, also achieved six wins in their respective tournaments, with most of their victories coming in regular play.\n",
    "\n",
    "However, the fact that Argentina had to rely on penalty shootouts to secure two crucial victories in the knockout stages—once in the quarter-final and then again in the final—sets their path to glory apart from some other winners. For instance, teams like Brazil in 1970 and Germany in 1974 managed to secure the championship with flawless records in regular play, with no losses or draws.\n",
    "\n",
    "In summary, Argentina's journey to winning the 2022 World Cup featured four wins in regular 90-minute play and two wins decided by penalty shootouts in crucial matches. While their path to victory is undoubtedly commendable, it's important to consider the context and nuances of each tournament when making comparisons to previous champions.\n",
    "\n",
    "In the analysis of Argentina's path to glory in the 2022 World Cup compared to previous winners, it's worth noting that draws in the knockout stages, followed by wins in penalty shootouts, have not been considered as draws. This means that if a team draws a match in the round of 16 (or any knockout stage) and subsequently wins it in a penalty shootout, it is counted as a win, similar to Argentina's performance in the quarter-final and final of the 2022 tournament.\n",
    "\n",
    "This approach ensures consistency in assessing the performance of teams that faced penalty shootouts as part of their victorious journey in the World Cup. It acknowledges that winning a match on penalties is a legitimate path to victory in the knockout stages, and thus, these matches are considered as wins rather than draws or losses in this analysis.\n",
    "\n",
    "\n",
    "\n",
    "\n",
    "\n",
    "\n"
   ]
  },
  {
   "cell_type": "code",
   "execution_count": null,
   "metadata": {
    "vscode": {
     "languageId": "sql"
    }
   },
   "outputs": [],
   "source": [
    "-- Active: 1688313602053@@127.0.0.1@5432@worldcup@wc\n",
    "WITH numofwins AS (\n",
    "    SELECT \n",
    "        \"Year\" AS year, \n",
    "        team,\n",
    "        SUM(CASE WHEN team = winner THEN 1 ELSE 0 END) AS total_wins,\n",
    "        SUM(CASE WHEN team <> winner AND winner <> 'Draw' THEN 1 ELSE 0 END) AS total_losses,\n",
    "        SUM(CASE WHEN winner = 'Draw' THEN 1 ELSE 0 END) AS total_draw\n",
    "    FROM (\n",
    "        SELECT \"Year\", hometeam AS team, winner\n",
    "        FROM world_cup_matches\n",
    "        UNION ALL\n",
    "        SELECT \"Year\", awayteam AS team, winner\n",
    "        FROM world_cup_matches\n",
    "    ) AS subquery\n",
    "    GROUP BY year, team\n",
    "    ORDER BY team ASC, year DESC\n",
    "),\n",
    "winners AS (\n",
    "    SELECT \n",
    "        \"Year\" AS year,\n",
    "        winner AS team\n",
    "    FROM world_cups wc\n",
    "    ORDER BY year DESC\n",
    ")\n",
    "SELECT \n",
    "    nw.year,\n",
    "    nw.team,\n",
    "    nw.total_wins,\n",
    "    nw.total_losses,\n",
    "    nw.total_draw\n",
    "FROM numofwins nw\n",
    "LEFT JOIN winners w ON w.team = nw.team AND w.year = nw.year\n",
    "WHERE w.team = nw.team AND nw.year = w.year\n",
    "GROUP BY nw.year, nw.team, nw.total_wins, nw.total_losses, nw.total_draw\n",
    "ORDER BY nw.year DESC, nw.team ASC;\n",
    "\n",
    "\n"
   ]
  },
  {
   "attachments": {},
   "cell_type": "markdown",
   "metadata": {},
   "source": [
    "How have host countries performed in World Cups over time? Did Qatar follow a similar path?"
   ]
  },
  {
   "attachments": {},
   "cell_type": "markdown",
   "metadata": {},
   "source": [
    "In the 2022 World Cup, which took place in Qatar, the host country Qatar faced a tough challenge. Unfortunately, they didn't manage to secure any wins during the tournament. Qatar ended up with 0 wins, 3 losses, and no draws.\n",
    "\n",
    "The 2018 World Cup was hosted by Russia. The Russian national team had a decent performance, earning 3 wins, suffering 2 losses, and notching up 0 draws.\n",
    "\n",
    "Back in 2014, Brazil hosted the World Cup. The host nation, Brazil, performed reasonably well with 4 wins, 2 losses, and 1 draw.\n",
    "\n",
    "South Africa hosted the 2010 World Cup. The South African team secured 1 win, experienced 1 loss, and played to 1 draw during the tournament.\n",
    "\n",
    "In the 2006 World Cup held in Germany, the host country Germany put on an impressive show, winning 6 matches, losing just 1, and drawing none.\n",
    "\n",
    "France hosted the 1998 World Cup, where the French team performed strongly, achieving 6 wins, 1 loss, and 0 draws.\n",
    "\n",
    "The 1994 World Cup was hosted by the United States. The U.S. team had a fair performance, with 1 win, 2 losses, and 1 draw.\n",
    "\n",
    "Italy hosted the 1990 World Cup and had a commendable performance, securing 6 wins, 1 loss, and no draws.\n",
    "\n",
    "Mexico hosted the 1986 World Cup and performed well, with 4 wins, 0 losses, and 1 draw.\n",
    "\n",
    "Spain hosted the 1982 World Cup. The Spanish team had a decent performance, with 1 win, 2 losses, and 2 draws.\n",
    "\n",
    "In the 1978 World Cup held in Argentina, the host country Argentina had a fair showing, winning 5 matches, losing 1, and drawing 1.\n",
    "\n",
    "West Germany hosted the 1974 World Cup and put on a strong performance, winning 6 games, losing 1, and drawing none.\n",
    "\n",
    "Mexico hosted the 1970 World Cup. The Mexican team achieved 2 wins, 1 loss, and 1 draw.\n",
    "\n",
    "England hosted the 1966 World Cup and delivered a solid performance, with 5 wins, 0 losses, and 1 draw.\n",
    "\n",
    "In 1962, Chile hosted the World Cup. The Chilean team did fairly well, securing 4 wins, suffering 2 losses, and having no draws.\n",
    "\n",
    "Sweden hosted the 1958 World Cup. The Swedish national team performed decently, with 4 wins, 1 loss, and 1 draw.\n",
    "\n",
    "Switzerland hosted the 1954 World Cup. Switzerland's team had a fair performance, with 2 wins, 2 losses, and no draws.\n",
    "\n",
    "The 1950 World Cup was hosted by Brazil, where the Brazilian team had a strong performance, achieving 4 wins, 0 losses, and 1 draw.\n",
    "\n",
    "In the 1938 World Cup hosted by France, the French team had a fair showing, with 1 win, 1 loss, and no draws.\n",
    "\n",
    "Italy hosted the 1934 World Cup and performed impressively, winning 4 games, losing none, and drawing 1.\n",
    "\n",
    "The inaugural 1930 World Cup was held in Uruguay, and the host nation, Uruguay, had a strong performance, winning 4 matches, losing none, and having no draws.\n",
    "\n",
    "Each World Cup hosted by a different country had its own unique story, with some host nations achieving remarkable success, while others had more modest results. Qatar's experience in 2022 was particularly challenging, as they faced stiff competition on their home turf. Host countries often enjoy the advantage of playing in familiar surroundings, but success depends on numerous factors, including the strength of the national team and the level of competition they face.\n",
    "\n",
    "\n",
    "\n",
    "\n",
    "\n"
   ]
  },
  {
   "cell_type": "code",
   "execution_count": null,
   "metadata": {
    "vscode": {
     "languageId": "sql"
    }
   },
   "outputs": [],
   "source": [
    "-- Active: 1688313602053@@127.0.0.1@5432@worldcup@wc\n",
    "\n",
    "WITH numofwins AS (\n",
    "    SELECT \n",
    "        wm.\"Year\" AS year, \n",
    "        wm.hometeam AS host_team,\n",
    "\t    wm.home_team_id,\n",
    "        SUM(CASE WHEN wm.hometeam = wm.winner THEN 1 ELSE 0 END) AS total_wins,\n",
    "        SUM(CASE WHEN wm.hometeam <> wm.winner AND wm.winner <> 'Draw' THEN 1 ELSE 0 END) AS total_losses,\n",
    "        SUM(CASE WHEN wm.winner = 'Draw' THEN 1 ELSE 0 END) AS total_draw\n",
    "    FROM world_cup_matches wm\n",
    "    WHERE wm.\"Host Team\" = 'True'\n",
    "    GROUP BY year, host_team,home_team_id\n",
    "    ORDER BY host_team ASC, year DESC\n",
    "),\n",
    "winners AS (\n",
    "    SELECT \n",
    "        wc.\"Year\" AS year,\n",
    "        wc.host_country ,\n",
    "        wc.Winner AS winner,\n",
    "\t    wc.host_country_id\n",
    "    FROM world_cups wc\n",
    "    ORDER BY year DESC\n",
    ")\n",
    "SELECT \n",
    "    nw.year,\n",
    "    nw.host_team AS host_country,\n",
    "    nw.total_wins,\n",
    "    nw.total_losses,\n",
    "    nw.total_draw\n",
    "FROM numofwins nw\n",
    "JOIN winners w ON w.host_country = nw.host_team AND w.year = nw.year \n",
    "WHERE w.host_country = nw.host_team AND nw.year = w.year AND nw.home_team_id=w.host_country_id\n",
    "GROUP BY nw.year, nw.host_team, nw.total_wins, nw.total_losses, nw.total_draw\n",
    "ORDER BY nw.year DESC, nw.host_team ASC;\n"
   ]
  },
  {
   "attachments": {},
   "cell_type": "markdown",
   "metadata": {},
   "source": [
    "         What Is The Total And Average Goals Scored In The Competition?"
   ]
  },
  {
   "attachments": {},
   "cell_type": "markdown",
   "metadata": {},
   "source": [
    "Total Goals: The total number of goals scored during the 2022 FIFA World Cup was 172.\n",
    "Average Goals: The average number of goals per match during the 2022 FIFA World Cup was 3."
   ]
  },
  {
   "cell_type": "code",
   "execution_count": null,
   "metadata": {
    "vscode": {
     "languageId": "sql"
    }
   },
   "outputs": [],
   "source": [
    "-- Active: 1688313602053@@127.0.0.1@5432@worldcup@wc\n",
    "SELECT \n",
    "\t\"Year\" AS year,\n",
    "\tSUM(homegoals + awaygoals) AS totalgoals,\n",
    "\tROUND(AVG(homegoals + awaygoals),0) AS avg_goals\n",
    "FROM world_cup_matches\n",
    "WHERE \"Year\" = 2022\n",
    "GROUP BY year;\n"
   ]
  },
  {
   "attachments": {},
   "cell_type": "markdown",
   "metadata": {},
   "source": [
    "        What Is The Performance Of Continents?\n",
    "        "
   ]
  },
  {
   "attachments": {},
   "cell_type": "markdown",
   "metadata": {},
   "source": [
    "Let's delve into the performance of continents in the context of the FIFA World Cup. South America stands out with an impressive record, boasting 11 wins, 5 losses, and 2 draws. This demonstrates a formidable showing by South American teams, underlining their competitive strength.\n",
    "\n",
    "Australia, while having participated in a smaller number of matches, showcased balance in performance with 2 wins and 2 losses, albeit without any draws. This suggests a competitive presence on the global stage.\n",
    "\n",
    "Africa's performance is notable, securing 9 wins, 8 losses, and 3 draws. This indicates competitiveness among African teams, with a commendable number of victories, albeit accompanied by significant losses.\n",
    "\n",
    "In contrast, Asia faced a challenging tournament with 5 wins, 11 losses, and a mere 1 draw. The data reflects the demanding nature of their matchups, leading to a higher loss-to-win ratio.\n",
    "\n",
    "North America's record comprises 3 wins, 7 losses, and 3 draws. While the number of draws suggests resilience, the lower number of wins underscores the obstacles encountered by North American teams.\n",
    "\n",
    "Europe, on the other hand, demonstrated dominance with 24 wins, 21 losses, and 11 draws. European teams secured the highest number of wins, signifying their prowess in international football. However, the substantial count of losses and draws highlights the competitive nature of the matches."
   ]
  },
  {
   "cell_type": "code",
   "execution_count": null,
   "metadata": {
    "vscode": {
     "languageId": "sql"
    }
   },
   "outputs": [],
   "source": [
    "-- Active: 1688313602053@@127.0.0.1@5432@worldcup@wc\n",
    "WITH first AS (\n",
    "    SELECT \n",
    "        teamid,\n",
    "        winner,\n",
    "        year,\n",
    "        team,\n",
    "        continent,\n",
    "        SUM(CASE WHEN team = winner THEN 1 ELSE 0 END) AS wins,\n",
    "        SUM(CASE WHEN team != winner AND winner <> 'Draw' THEN 1 ELSE 0 END) AS loss,\n",
    "        SUM(CASE WHEN winner = 'Draw' THEN 1 ELSE 0 END) AS draw\n",
    "    FROM (\n",
    "        SELECT \n",
    "            home_team_id AS teamid,\n",
    "            \"Year\" AS year,\n",
    "            \"Home Team\" AS team,\n",
    "            winner,\n",
    "            continent1 AS continent\n",
    "        FROM wc_matches2022\n",
    "        UNION ALL\n",
    "        SELECT \n",
    "            away_team_id AS teamid,\n",
    "            \"Year\" AS year,\n",
    "            \"Away Team\" AS team,\n",
    "            winner,\n",
    "            continent2 AS continent\n",
    "        FROM wc_matches2022\n",
    "    ) AS teams\n",
    "    GROUP BY year, team, continent, winner, teamid\n",
    ")\n",
    "SELECT \n",
    "    f.continent,\n",
    "    SUM(f.wins) AS wins,\n",
    "    SUM(f.loss) AS loss,\n",
    "    SUM(f.draw) AS draws\n",
    "FROM first f\n",
    "GROUP BY f.continent;"
   ]
  },
  {
   "attachments": {},
   "cell_type": "markdown",
   "metadata": {},
   "source": [
    "                        What Was The Win Percentage By Continents?"
   ]
  },
  {
   "attachments": {},
   "cell_type": "markdown",
   "metadata": {},
   "source": [
    "South America:\n",
    "\n",
    "Wins: 11\n",
    "Total Matches: 18\n",
    "Win Percentage: 61.1%\n",
    "South America exhibits a strong performance with a win percentage of 61.1%, showcasing their dominance in the competition, where they secured victories in the majority of their matches.\n",
    "Australia:\n",
    "\n",
    "Wins: 2\n",
    "Total Matches: 4\n",
    "Win Percentage: 50.0%\n",
    "Australia maintains a balanced performance with a win percentage of 50.0%. This signifies their competitiveness, as half of their matches concluded with triumphs.\n",
    "Africa:\n",
    "\n",
    "Wins: 9\n",
    "Total Matches: 20\n",
    "Win Percentage: 45.0%\n",
    "Africa's win percentage of 45.0% highlights a competitive presence, marked by a substantial number of victories. However, it also suggests challenges faced in a considerable number of matches.\n",
    "Europe:\n",
    "\n",
    "Wins: 24\n",
    "Total Matches: 56\n",
    "Win Percentage: 42.9%\n",
    "Europe, with the highest tally of wins, maintains a win percentage of 42.9%. This underscores both the strength of European teams and the competitive intensity of the matches they participated in.\n",
    "Asia:\n",
    "\n",
    "Wins: 5\n",
    "Total Matches: 17\n",
    "Win Percentage: 29.4%\n",
    "Asia's win percentage of 29.4% suggests encounters with formidable opponents, leading to a lower number of victories compared to other continents.\n",
    "North America:\n",
    "\n",
    "Wins: 3\n",
    "Total Matches: 13\n",
    "Win Percentage: 23.1%\n",
    "North America, with a win percentage of 23.1%, encountered challenges during the matches. While victories were attained, there were notable losses as well."
   ]
  },
  {
   "cell_type": "code",
   "execution_count": null,
   "metadata": {
    "vscode": {
     "languageId": "sql"
    }
   },
   "outputs": [],
   "source": [
    "-- Active: 1688313602053@@127.0.0.1@5432@worldcup@wc\n",
    "\n",
    "SELECT \n",
    "\t  continent,\n",
    "\t   SUM(CASE WHEN team=winner THEN 1 ELSE 0 END) AS wins,\n",
    "\t   COUNT(*) AS total_matches,\n",
    "\t \tROUND(SUM(CASE WHEN team=winner THEN 1 ELSE 0 END)*1.0/COUNT(*),3) AS win_percentage\n",
    "FROM\n",
    "\t(SELECT\n",
    "\t\tcontinent1 AS continent,\n",
    "\t\thome_team_goal AS goal,\n",
    "\t\thome_team_id AS teamid,\n",
    "\t \twinner,\n",
    "\t \t\"Home Team\" AS team\n",
    "\tFROM \twc_matches2022\n",
    "\tUNION ALL\n",
    "\tSELECT\n",
    "\t\tcontinent2 AS continent,\n",
    "\t\taway_team_goal AS goal,\n",
    "\t\taway_team_id AS teamid,\n",
    "\t \twinner,\n",
    "\t \t\"Away Team\"AS team\n",
    "\tFROM wc_matches2022) AS wins\n",
    "GROUP BY continent\n",
    "ORDER BY win_percentage DESC;\n"
   ]
  }
 ],
 "metadata": {
  "kernelspec": {
   "display_name": "Python 3",
   "language": "python",
   "name": "python3"
  },
  "language_info": {
   "codemirror_mode": {
    "name": "ipython",
    "version": 3
   },
   "file_extension": ".py",
   "mimetype": "text/x-python",
   "name": "python",
   "nbconvert_exporter": "python",
   "pygments_lexer": "ipython3",
   "version": "3.11.3"
  },
  "orig_nbformat": 4
 },
 "nbformat": 4,
 "nbformat_minor": 2
}
